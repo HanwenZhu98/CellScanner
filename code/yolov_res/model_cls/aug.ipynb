{
 "cells": [
  {
   "cell_type": "code",
   "execution_count": 39,
   "id": "49c3c37c",
   "metadata": {
    "ExecuteTime": {
     "end_time": "2022-10-05T07:07:33.612552Z",
     "start_time": "2022-10-05T07:07:33.187306Z"
    }
   },
   "outputs": [],
   "source": [
    "import pandas as pd\n",
    "import numpy as np\n",
    "import matplotlib.pyplot as plt"
   ]
  },
  {
   "cell_type": "code",
   "execution_count": 40,
   "id": "027d08ec",
   "metadata": {
    "ExecuteTime": {
     "end_time": "2022-10-05T07:07:33.741033Z",
     "start_time": "2022-10-05T07:07:33.738380Z"
    }
   },
   "outputs": [],
   "source": [
    "x = {1:0.1,2:0.2,3:0.3}\n",
    "y = {1:213,2:23,3:123}"
   ]
  },
  {
   "cell_type": "code",
   "execution_count": 41,
   "id": "bae4ddea",
   "metadata": {
    "ExecuteTime": {
     "end_time": "2022-10-05T07:07:34.228941Z",
     "start_time": "2022-10-05T07:07:34.225809Z"
    }
   },
   "outputs": [],
   "source": [
    "epoch = np.array(list(x.keys()))"
   ]
  },
  {
   "cell_type": "code",
   "execution_count": 42,
   "id": "161ac1b6",
   "metadata": {
    "ExecuteTime": {
     "end_time": "2022-10-05T07:07:34.525937Z",
     "start_time": "2022-10-05T07:07:34.522663Z"
    }
   },
   "outputs": [],
   "source": [
    "loss = np.array(list(x.values()))"
   ]
  },
  {
   "cell_type": "code",
   "execution_count": 43,
   "id": "090a4b3f",
   "metadata": {
    "ExecuteTime": {
     "end_time": "2022-10-05T07:07:34.727309Z",
     "start_time": "2022-10-05T07:07:34.724409Z"
    }
   },
   "outputs": [],
   "source": [
    "acc = np.array(list(y.values()))"
   ]
  },
  {
   "cell_type": "code",
   "execution_count": 54,
   "id": "2993e129",
   "metadata": {
    "ExecuteTime": {
     "end_time": "2022-10-05T07:11:45.168177Z",
     "start_time": "2022-10-05T07:11:45.163999Z"
    }
   },
   "outputs": [],
   "source": [
    "x = pd.DataFrame({'epoch':epoch, 'loss':loss, 'acc':acc},index=None)"
   ]
  },
  {
   "cell_type": "code",
   "execution_count": 57,
   "id": "cccb676d",
   "metadata": {
    "ExecuteTime": {
     "end_time": "2022-10-05T07:11:51.962208Z",
     "start_time": "2022-10-05T07:11:51.957745Z"
    }
   },
   "outputs": [
    {
     "data": {
      "text/plain": [
       "(3, 3)"
      ]
     },
     "execution_count": 57,
     "metadata": {},
     "output_type": "execute_result"
    }
   ],
   "source": [
    "x.shape"
   ]
  },
  {
   "cell_type": "code",
   "execution_count": null,
   "id": "6dbbccee",
   "metadata": {},
   "outputs": [],
   "source": []
  },
  {
   "cell_type": "code",
   "execution_count": 60,
   "id": "6306c3a9",
   "metadata": {
    "ExecuteTime": {
     "end_time": "2022-10-05T07:12:24.910907Z",
     "start_time": "2022-10-05T07:12:24.797938Z"
    }
   },
   "outputs": [
    {
     "name": "stdout",
     "output_type": "stream",
     "text": [
      "loss\n",
      "acc\n"
     ]
    },
    {
     "data": {
      "image/png": "[encoded data removed]",
      "text/plain": [
       "<Figure size 640x480 with 2 Axes>"
      ]
     },
     "metadata": {},
     "output_type": "display_data"
    }
   ],
   "source": [
    "import numpy as np\n",
    "import matplotlib.pyplot as plt\n",
    "\n",
    "plt.subplots_adjust(hspace=0.3, wspace=0.3)\n",
    "for i in range(1,3):\n",
    "    plt.subplot(2,3,i)\n",
    "    title = x.columns[i]\n",
    "    print(title)\n",
    "    plt.plot(x[title])\n",
    "    plt.title(title)\n",
    "    \n",
    "plt.show()\n"
   ]
  },
  {
   "cell_type": "code",
   "execution_count": null,
   "id": "644179ae",
   "metadata": {},
   "outputs": [],
   "source": []
  }
 ],
 "metadata": {
  "kernelspec": {
   "display_name": "Python 3 (ipykernel)",
   "language": "python",
   "name": "python3"
  },
  "language_info": {
   "codemirror_mode": {
    "name": "ipython",
    "version": 3
   },
   "file_extension": ".py",
   "mimetype": "text/x-python",
   "name": "python",
   "nbconvert_exporter": "python",
   "pygments_lexer": "ipython3",
   "version": "3.8.6"
  }
 },
 "nbformat": 4,
 "nbformat_minor": 5
}
