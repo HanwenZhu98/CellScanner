{
 "cells": [
  {
   "cell_type": "code",
   "execution_count": 1,
   "metadata": {},
   "outputs": [],
   "source": [
    "import json\n",
    "import shutil\n",
    "import os\n",
    "import pandas as pd"
   ]
  },
  {
   "cell_type": "markdown",
   "metadata": {},
   "source": [
    "# label_path 选发出来的labels 文件夹 \\\\\\\\结尾"
   ]
  },
  {
   "cell_type": "code",
   "execution_count": 16,
   "metadata": {},
   "outputs": [],
   "source": [
    "label_path = '.\\\\testresult\\\\predict\\\\labels\\\\'"
   ]
  },
  {
   "cell_type": "markdown",
   "metadata": {},
   "source": [
    "# new_path 选ckw发的五个图片的文件夹 \\\\\\\\结尾"
   ]
  },
  {
   "cell_type": "code",
   "execution_count": 22,
   "metadata": {},
   "outputs": [],
   "source": [
    "new_path = 'D:\\\\Documents\\\\WeChat Files\\\\wxid_b17afh0kuko712\\\\FileStorage\\\\MsgAttach\\\\3d50095c697e0a65fc962a2c1050dc0b\\\\File\\\\2022-06\\\\1\\\\1\\\\'"
   ]
  },
  {
   "cell_type": "markdown",
   "metadata": {},
   "source": [
    "# 全部运行"
   ]
  },
  {
   "cell_type": "code",
   "execution_count": 28,
   "metadata": {},
   "outputs": [],
   "source": [
    "label_total = [lb[:-5] for lb in os.listdir(label_path) if lb.endswith('.json')]"
   ]
  },
  {
   "cell_type": "code",
   "execution_count": 29,
   "metadata": {},
   "outputs": [],
   "source": [
    "pic_total = [lb[:-4] for lb in os.listdir(new_path) if lb.endswith('.tif')]"
   ]
  },
  {
   "cell_type": "code",
   "execution_count": 30,
   "metadata": {},
   "outputs": [],
   "source": [
    "total = set(label_total).intersection(pic_total)"
   ]
  },
  {
   "cell_type": "code",
   "execution_count": 32,
   "metadata": {
    "scrolled": true
   },
   "outputs": [],
   "source": [
    "for i in os.listdir(label_path):\n",
    "    if i.endswith('.json'):\n",
    "        if i[:-5] not in total:\n",
    "            os.remove(label_path + i)\n",
    "        else:\n",
    "            with open(label_path+i,'r') as f_:\n",
    "                d_ = json.load(f_)\n",
    "            d_['imagePath'] = new_path + d_['imagePath'].split('\\\\')[-1]\n",
    "\n",
    "            with open(label_path+i, 'w', encoding='utf-8') as fw:\n",
    "                json.dump(d_, fw, indent=2, ensure_ascii=False)"
   ]
  },
  {
   "cell_type": "code",
   "execution_count": null,
   "metadata": {},
   "outputs": [],
   "source": []
  }
 ],
 "metadata": {
  "kernelspec": {
   "display_name": "yolo",
   "language": "python",
   "name": "yolo"
  },
  "language_info": {
   "codemirror_mode": {
    "name": "ipython",
    "version": 3
   },
   "file_extension": ".py",
   "mimetype": "text/x-python",
   "name": "python",
   "nbconvert_exporter": "python",
   "pygments_lexer": "ipython3",
   "version": "3.8.6"
  }
 },
 "nbformat": 4,
 "nbformat_minor": 2
}
